{
 "cells": [
  {
   "cell_type": "code",
   "execution_count": null,
   "metadata": {},
   "outputs": [],
   "source": [
    "# conda env create --force -f environment.yml"
   ]
  },
  {
   "cell_type": "code",
   "execution_count": null,
   "metadata": {},
   "outputs": [],
   "source": [
    "import matplotlib.pyplot as plt\n",
    "import matplotlib\n",
    "import numpy as np\n",
    "import pandas as pd\n",
    "import sklearn\n",
    "import scipy\n",
    "\n",
    "from typing import List\n",
    "\n",
    "from sklearn.calibration import calibration_curve\n",
    "from sklearn.isotonic import IsotonicRegression\n",
    "from sklearn.linear_model import LogisticRegression\n",
    "from sklearn.neural_network import MLPRegressor"
   ]
  },
  {
   "cell_type": "code",
   "execution_count": null,
   "metadata": {},
   "outputs": [],
   "source": [
    "plt.style.use(\"seaborn-v0_8-deep\")\n",
    "\n",
    "font = {\"family\": \"serif\", \"size\": 14}\n",
    "\n",
    "matplotlib.rc(\"font\", **font)"
   ]
  },
  {
   "cell_type": "markdown",
   "metadata": {},
   "source": [
    "# Load data"
   ]
  },
  {
   "cell_type": "code",
   "execution_count": null,
   "metadata": {},
   "outputs": [],
   "source": [
    "median_ensemble_test = pd.read_csv(\"./delivery_1_cv_v7_seeds/split_v7_2021_test_cc_dispatcher_precision_recall_harmonic_mean_median_ensemble_individual_predictions.csv\")\n",
    "median_ensemble_val = pd.read_csv(\"./delivery_1_cv_v7_seeds/split_v7_2021_test_cc_dispatcher_precision_recall_harmonic_mean_median_ensemble_individual_predictions_val.csv\")"
   ]
  },
  {
   "cell_type": "code",
   "execution_count": null,
   "metadata": {},
   "outputs": [],
   "source": [
    "all_ensembles_test = pd.read_csv(\"./delivery_1_cv_v7_seeds/split_v7_2021_test_cc_dispatcher_precision_recall_harmonic_mean_predictions.csv\")\n",
    "all_ensembles_val = pd.read_csv(\"./delivery_1_cv_v7_seeds/split_v7_2021_test_cc_dispatcher_precision_recall_harmonic_mean_predictions_val.csv\")"
   ]
  },
  {
   "cell_type": "code",
   "execution_count": null,
   "metadata": {},
   "outputs": [],
   "source": [
    "column_map = {\n",
    "    \"logits 20\": \"logits 1\",\n",
    "    \"logits 21\": \"logits 2\",\n",
    "    \"logits 22\": \"logits 3\",\n",
    "    \"logits 23\": \"logits 4\",\n",
    "    \"logits 24\": \"logits 5\",\n",
    "    \"probs 20\": \"probs 1\",\n",
    "    \"probs 21\": \"probs 2\",\n",
    "    \"probs 22\": \"probs 3\",\n",
    "    \"probs 23\": \"probs 4\",\n",
    "    \"probs 24\": \"probs 5\",\n",
    "}\n",
    "median_ensemble_test.rename(columns=column_map, inplace=True)\n",
    "median_ensemble_test[\"ensemble_preds\"] = median_ensemble_test[\"ensemble_probs\"] > 0.5\n",
    "\n",
    "median_ensemble_val.rename(columns=column_map, inplace=True)\n",
    "median_ensemble_val[\"ensemble_preds\"] = median_ensemble_val[\"ensemble_probs\"] > 0.5\n",
    "\n",
    "median_ensemble_test"
   ]
  },
  {
   "cell_type": "code",
   "execution_count": null,
   "metadata": {},
   "outputs": [],
   "source": [
    "def plot_histogram(arrays: List[np.ndarray], labels: List, **kwargs):\n",
    "    \n",
    "    density = kwargs.get(\"density\", False)\n",
    "    fig, ax = plt.subplots(figsize=(6.4, 4.8))\n",
    "\n",
    "    for array, label in zip(arrays, labels):\n",
    "        ax.hist(array, bins=kwargs.get(\"bins\", 50), alpha=kwargs.get(\"alpha\", 0.5), label=label, density=density)\n",
    "\n",
    "    ax.set_yscale(kwargs.get(\"yscale\", \"log\"))\n",
    "    ax.set_xlabel(\"Predicted probability\")\n",
    "    if density:\n",
    "        ax.set_ylabel(\"Density\")\n",
    "    else:\n",
    "        ax.set_ylabel(\"Count\")\n",
    "    ax.legend()\n",
    "    return fig, ax"
   ]
  },
  {
   "cell_type": "code",
   "execution_count": null,
   "metadata": {},
   "outputs": [],
   "source": [
    "def plot_calibration_curve(targets: List[np.ndarray], model_probs: List[np.ndarray], labels=None, ax=None, **kwargs):\n",
    "    if not isinstance(targets, list):\n",
    "        targets = [targets]\n",
    "    if not isinstance(model_probs, list):\n",
    "        model_probs = [model_probs]\n",
    "\n",
    "    if len(model_probs) != len(targets):\n",
    "        assert len(model_probs) == 1 or len(targets) == 1, \"Number of models and targets must be equal or 1\"\n",
    "        if len(model_probs) == 1:\n",
    "            model_probs = model_probs * len(targets)\n",
    "        else:\n",
    "            targets = targets * len(model_probs)\n",
    "\n",
    "    if ax is None:\n",
    "        fig, ax = plt.subplots(figsize=(6.4, 4.8))\n",
    "        ax.plot([0, 1], [0, 1], \"k:\", label=\"Perfect calibration\")\n",
    "    else:\n",
    "        fig = None\n",
    "\n",
    "    for target, probs, label in zip(targets, model_probs, labels):\n",
    "        prob_true, prob_pred = calibration_curve(\n",
    "            target,\n",
    "            probs,\n",
    "            n_bins=kwargs.get(\"n_bins\", 20),\n",
    "            strategy=kwargs.get(\"strategy\", \"uniform\"),\n",
    "        )\n",
    "        ax.plot(prob_pred, prob_true, marker=\"o\", markersize=3, label=label)\n",
    "\n",
    "    ax.set_xlabel(\"Mean predicted probability\")\n",
    "    ax.set_ylabel(\"Fraction of positives\")\n",
    "    ax.legend()\n",
    "    return fig, ax"
   ]
  },
  {
   "cell_type": "code",
   "execution_count": null,
   "metadata": {},
   "outputs": [],
   "source": [
    "fig, ax = plot_calibration_curve(\n",
    "    targets=median_ensemble_test[\"y\"],\n",
    "    model_probs=[median_ensemble_test[\"ensemble_probs\"], median_ensemble_test[\"probs 1\"]],\n",
    "    labels=[\"Ensemble\", \"Single model\"],\n",
    "    n_bins=20,\n",
    ")\n",
    "# fig.savefig(\"calibration_curve_ensemble_and_single_model_uncalibrated.pdf\", bbox_inches=\"tight\")\n",
    "fig, ax = plot_histogram(arrays=[median_ensemble_test[\"ensemble_probs\"], median_ensemble_test[\"probs 1\"]], labels=[\"Ensemble\", \"Constituent model 1\"], bins=30)\n",
    "fig.savefig(\"histogram_ensemble_and_single_model.pdf\", bbox_inches=\"tight\")"
   ]
  },
  {
   "cell_type": "code",
   "execution_count": null,
   "metadata": {},
   "outputs": [],
   "source": [
    "fig, ax = plot_calibration_curve(\n",
    "    targets=median_ensemble_test[\"y\"],\n",
    "    model_probs=[\n",
    "        median_ensemble_test[\"probs 1\"],\n",
    "        median_ensemble_test[\"probs 2\"],\n",
    "        median_ensemble_test[\"probs 3\"],\n",
    "        median_ensemble_test[\"probs 4\"],\n",
    "        median_ensemble_test[\"probs 5\"],\n",
    "        median_ensemble_test[\"ensemble_probs\"],\n",
    "    ],\n",
    "    labels=[\"Constituent model 1\", \"Constituent model 2\", \"Constituent model 3\", \"Constituent model 4\", \"Constituent model 4\", \"Ensemble\"],\n",
    "    n_bins=20,\n",
    ")\n",
    "fig.savefig(\"calibration_curve_ensemble_and_all_models_uncalibrated.pdf\", bbox_inches=\"tight\")\n",
    "plot_histogram(\n",
    "    arrays=[\n",
    "        median_ensemble_test[\"probs 1\"],\n",
    "        median_ensemble_test[\"probs 2\"],\n",
    "        median_ensemble_test[\"probs 3\"],\n",
    "        median_ensemble_test[\"probs 4\"],\n",
    "        median_ensemble_test[\"probs 5\"],\n",
    "        median_ensemble_test[\"ensemble_probs\"],\n",
    "    ],\n",
    "    labels=[\"Constituent model 1\", \"Constituent model 2\", \"Constituent model 3\", \"Constituent model 4\", \"Constituent model 4\", \"Ensemble\"],\n",
    "    alpha=0.3\n",
    ")"
   ]
  },
  {
   "cell_type": "code",
   "execution_count": null,
   "metadata": {},
   "outputs": [],
   "source": [
    "is_male = median_ensemble_test[\"gender\"] == \"M\"\n",
    "is_female = median_ensemble_test[\"gender\"] == \"K\"\n",
    "plot_calibration_curve(\n",
    "    targets=[median_ensemble_test[\"y\"][is_male], median_ensemble_test[\"y\"][is_female]],\n",
    "    model_probs=[median_ensemble_test[\"ensemble_probs\"][is_male], median_ensemble_test[\"ensemble_probs\"][is_female]],\n",
    "    labels=[\"Male\", \"Female\"],\n",
    "    n_bins=20,\n",
    ")\n",
    "plot_histogram(\n",
    "    arrays=[median_ensemble_test[\"ensemble_probs\"][is_male], median_ensemble_test[\"ensemble_probs\"][is_female]],\n",
    "    labels=[\"Male\", \"Female\"],\n",
    ")"
   ]
  },
  {
   "cell_type": "code",
   "execution_count": null,
   "metadata": {},
   "outputs": [],
   "source": [
    "condition = median_ensemble_test[\"h\"]\n",
    "\n",
    "plot_calibration_curve(\n",
    "    targets=[median_ensemble_test[\"y\"][condition], median_ensemble_test[\"y\"][~condition]],\n",
    "    model_probs=[median_ensemble_test[\"ensemble_probs\"][condition], median_ensemble_test[\"ensemble_probs\"][~condition]],\n",
    "    labels=[\"Call-taker recognition\", \"No call-taker recognition\"],\n",
    "    n_bins=20,\n",
    ")\n",
    "plot_histogram(\n",
    "    arrays=[median_ensemble_test[\"ensemble_probs\"][condition], median_ensemble_test[\"ensemble_probs\"][~condition]],\n",
    "    labels=[\"Call-taker recognition\", \"No call-taker recognition\"],\n",
    ")"
   ]
  },
  {
   "cell_type": "code",
   "execution_count": null,
   "metadata": {},
   "outputs": [],
   "source": [
    "plot_histogram(\n",
    "    arrays=[median_ensemble_test[\"ensemble_probs\"][condition]],\n",
    "    labels=[\"Call-taker recognition\"],\n",
    "    yscale=\"linear\"\n",
    ")"
   ]
  },
  {
   "cell_type": "code",
   "execution_count": null,
   "metadata": {},
   "outputs": [],
   "source": [
    "condition = median_ensemble_test[\"h\"] == median_ensemble_test[\"ensemble_preds\"]\n",
    "\n",
    "plot_calibration_curve(\n",
    "    targets=[median_ensemble_test[\"y\"][condition], median_ensemble_test[\"y\"][~condition]],\n",
    "    model_probs=[median_ensemble_test[\"ensemble_probs\"][condition], median_ensemble_test[\"ensemble_probs\"][~condition]],\n",
    "    labels=[\"Model/call-taker agreement\", \"Model/call-taker disagreement\"],\n",
    "    n_bins=20,\n",
    ")\n",
    "plot_histogram(\n",
    "    arrays=[median_ensemble_test[\"ensemble_probs\"][condition], median_ensemble_test[\"ensemble_probs\"][~condition]],\n",
    "    labels=[\"Model/call-taker agreement\", \"Model/call-taker disagreement\"],\n",
    ")"
   ]
  },
  {
   "cell_type": "code",
   "execution_count": null,
   "metadata": {},
   "outputs": [],
   "source": [
    "is_old = median_ensemble_test[\"age\"] >= 65\n",
    "plot_calibration_curve(\n",
    "    targets=[median_ensemble_test[\"y\"][is_old], median_ensemble_test[\"y\"][~is_old]],\n",
    "    model_probs=[median_ensemble_test[\"ensemble_probs\"][is_old], median_ensemble_test[\"ensemble_probs\"][~is_old]],\n",
    "    labels=[\"65+\", \"18-65\"],\n",
    "    n_bins=20,\n",
    ")\n",
    "plot_histogram(\n",
    "    arrays=[median_ensemble_test[\"ensemble_probs\"][is_old], median_ensemble_test[\"ensemble_probs\"][~is_old]],\n",
    "    labels=[\"65+\", \"18-65\"],\n",
    ")"
   ]
  },
  {
   "cell_type": "code",
   "execution_count": null,
   "metadata": {},
   "outputs": [],
   "source": [
    "condition = median_ensemble_test[\"y\"]\n",
    "\n",
    "plot_calibration_curve(\n",
    "    targets=[median_ensemble_test[\"y\"][condition], median_ensemble_test[\"y\"][~condition]],\n",
    "    model_probs=[median_ensemble_test[\"ensemble_probs\"][condition], median_ensemble_test[\"ensemble_probs\"][~condition]],\n",
    "    labels=[\"Model/call-taker agreement\", \"Model/call-taker disagreement\"],\n",
    "    n_bins=20,\n",
    ")\n",
    "plot_histogram(\n",
    "    arrays=[median_ensemble_test[\"ensemble_probs\"][condition], median_ensemble_test[\"ensemble_probs\"][~condition]],\n",
    "    labels=[\"Model/call-taker agreement\", \"Model/call-taker disagreement\"],\n",
    ")"
   ]
  },
  {
   "cell_type": "markdown",
   "metadata": {},
   "source": [
    "# Calibration"
   ]
  },
  {
   "cell_type": "markdown",
   "metadata": {},
   "source": [
    "## Platt scaling"
   ]
  },
  {
   "cell_type": "code",
   "execution_count": null,
   "metadata": {},
   "outputs": [],
   "source": [
    "logistic = LogisticRegression(penalty=\"none\", fit_intercept=True)\n",
    "logistic.fit(median_ensemble_val[\"ensemble_probs\"].to_numpy()[:, np.newaxis], median_ensemble_val[\"y\"].to_numpy())\n",
    "ensemble_probs_logistic = logistic.predict_proba(median_ensemble_test[\"ensemble_probs\"].to_numpy()[:, np.newaxis])[:, 1]\n",
    "ensemble_probs_logistic_val = logistic.predict_proba(median_ensemble_val[\"ensemble_probs\"].to_numpy()[:, np.newaxis])[:, 1]\n",
    "\n",
    "individual_probs_logistic = []\n",
    "individual_probs_logistic_val = []\n",
    "for i in range(1, 6):\n",
    "    logistic = LogisticRegression(penalty=\"none\", fit_intercept=True)\n",
    "    logistic.fit(median_ensemble_val[f\"probs {i}\"].to_numpy()[:, np.newaxis], median_ensemble_val[\"y\"].to_numpy())\n",
    "    individual_probs_logistic += [logistic.predict_proba(median_ensemble_test[f\"probs {i}\"].to_numpy()[:, np.newaxis])[:, 1]]\n",
    "    individual_probs_logistic_val += [logistic.predict_proba(median_ensemble_val[f\"probs {i}\"].to_numpy()[:, np.newaxis])[:, 1]]"
   ]
  },
  {
   "cell_type": "code",
   "execution_count": null,
   "metadata": {},
   "outputs": [],
   "source": [
    "logistic.coef_, logistic.intercept_, logistic.n_iter_"
   ]
  },
  {
   "cell_type": "code",
   "execution_count": null,
   "metadata": {},
   "outputs": [],
   "source": [
    "# Plot logistic sigmoid fit\n",
    "x = np.linspace(0, 1, 200)\n",
    "y = logistic.predict_proba(x[:, np.newaxis])[:, 1]\n",
    "\n",
    "fig, ax = plt.subplots(figsize=(6.4, 4.8))\n",
    "ax.plot([0, 1], [0, 1], \"k:\", label=\"Perfect calibration\")\n",
    "ax.plot(x, y, label=\"Logistic sigmoid fit\")"
   ]
  },
  {
   "cell_type": "code",
   "execution_count": null,
   "metadata": {},
   "outputs": [],
   "source": [
    "ensemble_probs_logistic.min(), ensemble_probs_logistic.max()"
   ]
  },
  {
   "cell_type": "code",
   "execution_count": null,
   "metadata": {},
   "outputs": [],
   "source": [
    "fig, ax = plot_calibration_curve(\n",
    "    targets=median_ensemble_val[\"y\"],\n",
    "    model_probs=[ensemble_probs_logistic_val, *individual_probs_logistic_val],\n",
    "    labels=[\"Ensemble\", *[\"Constituent model\"] * 5],\n",
    "    n_bins=20,\n",
    ")\n",
    "plot_histogram(arrays=[ensemble_probs_logistic_val], labels=[\"Ensemble\"])"
   ]
  },
  {
   "cell_type": "code",
   "execution_count": null,
   "metadata": {},
   "outputs": [],
   "source": [
    "fig, ax = plot_calibration_curve(\n",
    "    targets=median_ensemble_test[\"y\"],\n",
    "    # model_probs=[ensemble_probs_logistic, *individual_probs_logistic],\n",
    "    model_probs=[ensemble_probs_logistic, *individual_probs_logistic],\n",
    "    labels=[\"Ensemble\"], #, *[\"Constituent model\"] * 5],\n",
    "    n_bins=20,\n",
    "    strategy=\"uniform\",\n",
    "    # n_bins=1000,\n",
    "    # strategy=\"quantile\",\n",
    ")\n",
    "fig.savefig(\"calibration_curve_ensemble_logistic.pdf\", bbox_inches=\"tight\")"
   ]
  },
  {
   "cell_type": "markdown",
   "metadata": {},
   "source": [
    "## Isotonic"
   ]
  },
  {
   "cell_type": "code",
   "execution_count": null,
   "metadata": {},
   "outputs": [],
   "source": [
    "isotonic = IsotonicRegression(y_min=0, y_max=1, increasing=True, out_of_bounds=\"clip\")\n",
    "isotonic.fit(median_ensemble_val[\"ensemble_probs\"].to_numpy(), median_ensemble_val[\"y\"].to_numpy())\n",
    "ensemble_probs_isotonic = isotonic.transform(median_ensemble_test[\"ensemble_probs\"].to_numpy())\n",
    "ensemble_probs_isotonic_val = isotonic.transform(median_ensemble_val[\"ensemble_probs\"].to_numpy())\n",
    "\n",
    "individual_probs_isotonic = []\n",
    "individual_probs_isotonic_val = []\n",
    "for i in range(1, 6):\n",
    "    isotonic_i = IsotonicRegression(y_min=0, y_max=1, increasing=True, out_of_bounds=\"clip\")\n",
    "    isotonic_i.fit(median_ensemble_val[f\"probs {i}\"].to_numpy(), median_ensemble_val[\"y\"].to_numpy())\n",
    "    individual_probs_isotonic += [isotonic_i.transform(median_ensemble_test[f\"probs {i}\"].to_numpy())]\n",
    "    individual_probs_isotonic_val += [isotonic_i.transform(median_ensemble_val[f\"probs {i}\"].to_numpy())]"
   ]
  },
  {
   "cell_type": "code",
   "execution_count": null,
   "metadata": {},
   "outputs": [],
   "source": [
    "median_ensemble_val[\"ensemble_probs\"]"
   ]
  },
  {
   "cell_type": "code",
   "execution_count": null,
   "metadata": {},
   "outputs": [],
   "source": [
    "plot_histogram(arrays=[ensemble_probs_isotonic, ensemble_probs_isotonic_val], labels=[\"Ensemble test\", \"Ensemble validation\"])"
   ]
  },
  {
   "cell_type": "code",
   "execution_count": null,
   "metadata": {},
   "outputs": [],
   "source": [
    "x = np.linspace(0, 1, 200)\n",
    "y = isotonic.transform(x)\n",
    "\n",
    "fig, ax = plt.subplots(figsize=(6.4, 4.8))\n",
    "ax.plot([0, 1], [0, 1], \"k:\", label=\"Perfect calibration\")\n",
    "# ax.plot(isotonic.X_thresholds_, isotonic.y_thresholds_, \"-\", marker=\"o\", markersize=3, label=\"Isotonic\")\n",
    "ax.plot(x, y, label=\"Isotonic fit\")\n",
    "\n",
    "val_pos = median_ensemble_val[\"ensemble_probs\"][median_ensemble_val[\"y\"] == 1]\n",
    "val_neg = median_ensemble_val[\"ensemble_probs\"][median_ensemble_val[\"y\"] == 0]\n",
    "plot_histogram(arrays=[val_neg, val_pos], labels=[\"Ensemble probs (val-neg)\", \"Ensemble probs (val-pos)\"])"
   ]
  },
  {
   "cell_type": "code",
   "execution_count": null,
   "metadata": {},
   "outputs": [],
   "source": [
    "ensemble_probs_isotonic"
   ]
  },
  {
   "cell_type": "code",
   "execution_count": null,
   "metadata": {},
   "outputs": [],
   "source": [
    "fig, ax = plot_calibration_curve(\n",
    "    targets=median_ensemble_val[\"y\"],\n",
    "    model_probs=[ensemble_probs_isotonic_val, *individual_probs_isotonic_val],\n",
    "    labels=[\"Ensemble\"],#, *[\"Constituent model\"] * 5],\n",
    "    n_bins=10,\n",
    "    strategy=\"uniform\",\n",
    "    # n_bins=1000,\n",
    "    # strategy=\"quantile\",\n",
    ")\n",
    "plot_histogram(arrays=[ensemble_probs_isotonic_val], labels=[\"Ensemble\"])"
   ]
  },
  {
   "cell_type": "code",
   "execution_count": null,
   "metadata": {},
   "outputs": [],
   "source": [
    "fig, ax = plot_calibration_curve(\n",
    "    targets=median_ensemble_test[\"y\"],\n",
    "    model_probs=[ensemble_probs_isotonic, *individual_probs_isotonic],\n",
    "    labels=[\"Ensemble\"],#, *[\"Constituent model\"] * 5],\n",
    "    # n_bins=10,\n",
    "    # strategy=\"uniform\",\n",
    "    n_bins=1000,\n",
    "    strategy=\"quantile\",\n",
    ")\n",
    "plot_histogram(arrays=[ensemble_probs_isotonic], labels=[\"Ensemble\"])"
   ]
  },
  {
   "cell_type": "markdown",
   "metadata": {},
   "source": [
    "## MLP"
   ]
  },
  {
   "cell_type": "code",
   "execution_count": null,
   "metadata": {},
   "outputs": [],
   "source": [
    "mlp = MLPRegressor(hidden_layer_sizes=(8, 8), activation=\"tanh\", solver=\"adam\", max_iter=3000, random_state=0)\n",
    "mlp.out_activation_ = \"sigmoid\"\n",
    "mlp.fit(median_ensemble_val[\"ensemble_probs\"].to_numpy()[:, np.newaxis], median_ensemble_val[\"y\"].to_numpy()[:, np.newaxis])\n",
    "ensemble_probs_mlp = mlp.predict(median_ensemble_test[\"ensemble_probs\"].to_numpy()[:, np.newaxis]).clip(0)\n",
    "ensemble_probs_mlp_val = mlp.predict(median_ensemble_val[\"ensemble_probs\"].to_numpy()[:, np.newaxis]).clip(0)\n",
    "\n",
    "individual_probs_mlp = []\n",
    "individual_probs_mlp_val = []\n",
    "for i in range(1, 6):\n",
    "    mlp_i = MLPRegressor(hidden_layer_sizes=(8, 8), activation=\"tanh\", solver=\"adam\", max_iter=3000, random_state=0)\n",
    "    mlp_i.out_activation_ = \"sigmoid\"\n",
    "    mlp_i.fit(median_ensemble_val[f\"probs {i}\"].to_numpy()[:, np.newaxis], median_ensemble_val[\"y\"].to_numpy()[:, np.newaxis])\n",
    "    individual_probs_mlp += [mlp_i.predict(median_ensemble_test[f\"probs {i}\"].to_numpy()[:, np.newaxis]).clip(0)]\n",
    "    individual_probs_mlp_val += [mlp_i.predict(median_ensemble_val[f\"probs {i}\"].to_numpy()[:, np.newaxis]).clip(0)]"
   ]
  },
  {
   "cell_type": "code",
   "execution_count": null,
   "metadata": {},
   "outputs": [],
   "source": [
    "plot_histogram(arrays=[ensemble_probs_mlp, ensemble_probs_mlp_val], labels=[\"Ensemble test\", \"Ensemble validation\"])"
   ]
  },
  {
   "cell_type": "code",
   "execution_count": null,
   "metadata": {},
   "outputs": [],
   "source": [
    "fig, ax = plot_calibration_curve(\n",
    "    targets=median_ensemble_val[\"y\"],\n",
    "    model_probs=[ensemble_probs_mlp_val, *individual_probs_mlp_val],\n",
    "    labels=[\"Ensemble\"],#, *[\"Constituent model\"] * 5],\n",
    "    n_bins=15,\n",
    "    strategy=\"uniform\",\n",
    "    # n_bins=1000,\n",
    "    # strategy=\"quantile\",\n",
    ")\n",
    "plot_histogram(arrays=[ensemble_probs_mlp_val], labels=[\"Ensemble\"])"
   ]
  },
  {
   "cell_type": "code",
   "execution_count": null,
   "metadata": {},
   "outputs": [],
   "source": [
    "fig, ax = plot_calibration_curve(\n",
    "    targets=median_ensemble_test[\"y\"],\n",
    "    model_probs=[ensemble_probs_mlp, *individual_probs_mlp],\n",
    "    labels=[\"Ensemble\"],#, *[\"Constituent model\"] * 5],\n",
    "    # n_bins=10,\n",
    "    # strategy=\"uniform\",\n",
    "    n_bins=1000,\n",
    "    strategy=\"quantile\",\n",
    ")\n",
    "plot_histogram(arrays=[ensemble_probs_mlp], labels=[\"Ensemble\"])"
   ]
  },
  {
   "cell_type": "markdown",
   "metadata": {},
   "source": [
    "## Plot-making"
   ]
  },
  {
   "cell_type": "code",
   "execution_count": null,
   "metadata": {},
   "outputs": [],
   "source": [
    "# All calibration fits\n",
    "\n",
    "# Logistic sigmoid\n",
    "x_logistic = np.linspace(0, 1, 200)\n",
    "y_logistic = logistic.predict_proba(x_logistic[:, np.newaxis])[:, 1]\n",
    "\n",
    "# Isothonic regression\n",
    "x_isotonic = np.linspace(0, 1, 200)\n",
    "y_isotonic = isotonic.transform(x_isotonic)\n",
    "\n",
    "\n",
    "# MLP\n",
    "x_mlp = np.linspace(0, 1, 200)\n",
    "y_mlp = mlp.predict(x_mlp[:, np.newaxis]).clip(0)\n",
    "\n",
    "fig, ax = plt.subplots(figsize=(6.4, 4.8))\n",
    "ax.plot([0, 1], [0, 1], label=\"Uncalibrated\")\n",
    "ax.plot(x_logistic, y_logistic, label=\"Logistic fit\")\n",
    "# ax.plot(isotonic.X_thresholds_, isotonic.y_thresholds_, \"-\", marker=\"o\", markersize=3, label=\"Isotonic fit\")\n",
    "ax.plot(x_isotonic, y_isotonic, \"-\", label=\"Isotonic fit\")\n",
    "# ax.plot(x_mlp, y_mlp, label=\"MLP\")\n",
    "ax.set_xlabel(\"Predicted probability\")\n",
    "ax.set_ylabel(\"Calibrated probability\")\n",
    "ax.legend()\n",
    "fig.savefig(\"calibration_fits_ensemble.pdf\", bbox_inches=\"tight\")"
   ]
  },
  {
   "cell_type": "code",
   "execution_count": null,
   "metadata": {},
   "outputs": [],
   "source": [
    "# All calibration curves\n",
    "arrays = [median_ensemble_test[\"ensemble_probs\"], ensemble_probs_logistic, ensemble_probs_isotonic]#, ensemble_probs_mlp]\n",
    "labels = [\"Ensemble uncalibrated\", \"Ensemble logistic calibration\", \"Ensemble isotonic calibration\", \"Ensemble MLP calibration\"]\n",
    "\n",
    "fig, ax = plot_calibration_curve(\n",
    "    targets=median_ensemble_test[\"y\"],\n",
    "    model_probs=arrays[0:1],\n",
    "    labels=labels[0:1], #, *[\"Constituent model\"] * 5],\n",
    "    n_bins=20,\n",
    "    strategy=\"uniform\",\n",
    "    # n_bins=1000,\n",
    "    # strategy=\"quantile\",\n",
    ")\n",
    "\n",
    "plot_calibration_curve(\n",
    "    targets=median_ensemble_test[\"y\"],\n",
    "    model_probs=arrays[1:],\n",
    "    labels=labels[1:], #, *[\"Constituent model\"] * 5],\n",
    "    # n_bins=20,\n",
    "    # strategy=\"uniform\",\n",
    "    n_bins=1000,\n",
    "    strategy=\"quantile\",\n",
    "    ax=ax,\n",
    ")\n",
    "fig.savefig(\"calibration_curves_ensemble.pdf\", bbox_inches=\"tight\")\n",
    "plot_histogram(arrays=arrays, labels=labels)"
   ]
  },
  {
   "cell_type": "code",
   "execution_count": null,
   "metadata": {},
   "outputs": [],
   "source": [
    "# All calibration curves (transformed bin centers)\n",
    "# > Not great\n",
    "arrays = [median_ensemble_test[\"ensemble_probs\"], ensemble_probs_logistic, ensemble_probs_isotonic]#, ensemble_probs_mlp]\n",
    "labels = [\"Ensemble uncalibrated\", \"Ensemble logistic calibration\", \"Ensemble isotonic calibration\", \"Ensemble MLP calibration\"]\n",
    "\n",
    "fig, ax = plot_calibration_curve(\n",
    "    targets=median_ensemble_test[\"y\"],\n",
    "    model_probs=median_ensemble_test[\"ensemble_probs\"],\n",
    "    labels=labels[0:1], #, *[\"Constituent model\"] * 5],\n",
    "    n_bins=20,\n",
    "    strategy=\"uniform\",\n",
    "    # n_bins=1000,\n",
    "    # strategy=\"quantile\",\n",
    ")\n",
    "\n",
    "uncalibrated_bin_centers = ax.lines[1].get_xdata()\n",
    "fraction_of_positives = ax.lines[1].get_ydata()\n",
    "\n",
    "logistic_bin_centers = logistic.predict_proba(uncalibrated_bin_centers[:, np.newaxis])[:, 1]\n",
    "isotonic_bin_centers = isotonic.transform(uncalibrated_bin_centers)\n",
    "\n",
    "ax.plot(logistic_bin_centers, fraction_of_positives, label=\"Logistic fit\")\n",
    "ax.plot(isotonic_bin_centers, fraction_of_positives, label=\"Isotonic fit\")\n",
    "ax.legend()"
   ]
  },
  {
   "cell_type": "code",
   "execution_count": null,
   "metadata": {},
   "outputs": [],
   "source": [
    "# Brier scores\n",
    "brier_scores = {\n",
    "    \"uncalibrated\": sklearn.metrics.brier_score_loss(median_ensemble_test[\"y\"], median_ensemble_test[\"ensemble_probs\"]),\n",
    "    \"logistic\": sklearn.metrics.brier_score_loss(median_ensemble_test[\"y\"], ensemble_probs_logistic),\n",
    "    \"isotonic\": sklearn.metrics.brier_score_loss(median_ensemble_test[\"y\"], ensemble_probs_isotonic),\n",
    "    # \"mlp\": sklearn.metrics.brier_score_loss(median_ensemble_test[\"y\"], ensemble_probs_mlp),\n",
    "    \"average\": sklearn.metrics.brier_score_loss(median_ensemble_test[\"y\"], median_ensemble_test[\"y\"].mean()[np.newaxis].repeat(len(median_ensemble_test))),\n",
    "}\n",
    "print(\"Brier scores: \", brier_scores)\n",
    "\n",
    "# Brier skill scores\n",
    "# - uncalibrated reference\n",
    "brier_skill_scores_uncalibrated = {\n",
    "    \"logistic\": 1 - brier_scores[\"logistic\"] / brier_scores[\"uncalibrated\"],\n",
    "    \"isotonic\": 1 - brier_scores[\"isotonic\"] / brier_scores[\"uncalibrated\"],\n",
    "    # \"mlp\": 1 - brier_scores[\"mlp\"] / brier_scores[\"uncalibrated\"],\n",
    "}\n",
    "print(\"BSS uncalibrated reference: \", brier_skill_scores_uncalibrated)\n",
    "\n",
    "# - average target reference\n",
    "brier_skill_scores_mean = {\n",
    "    \"logistic\": 1 - brier_scores[\"logistic\"] / brier_scores[\"average\"],\n",
    "    \"isotonic\": 1 - brier_scores[\"isotonic\"] / brier_scores[\"average\"],\n",
    "    # \"mlp\": 1 - brier_scores[\"mlp\"] / brier_scores[\"average\"],\n",
    "}\n",
    "print(\"BSS mean reference: \", brier_skill_scores_mean)\n"
   ]
  },
  {
   "cell_type": "code",
   "execution_count": null,
   "metadata": {},
   "outputs": [],
   "source": [
    "# F1-score of model and call-taker as function of model output probabilities\n",
    "\n",
    "def plot_f1_score_vs_probabilities(targets, model_probs, model_preds, human_preds, model_label: str, target_label: str = \"Call-taker\", num_bins: int = 10):\n",
    "\n",
    "    bin_edges = [i**2 for i in range(1, num_bins, 1)] #np.linspace(0, 1, num_bins + 1)\n",
    "    bin_edges[0] = 0.0\n",
    "    bin_edges = np.array(bin_edges) / (num_bins)**2\n",
    "    hist, bin_edges = np.histogram(model_probs, bins=bin_edges)\n",
    "    print(\"Bin edges: \", bin_edges)\n",
    "\n",
    "    bin_widths = bin_edges[1:] - bin_edges[:-1]\n",
    "\n",
    "    fig1 = plt.figure(figsize=(6.4, 4.8))\n",
    "    ax1 = fig1.gca()\n",
    "    ax1.bar(bin_edges[:-1], hist, width=bin_widths, align=\"edge\", alpha=0.5, label=model_label)\n",
    "    ax1.set_yscale(\"log\")\n",
    "    ax1.set_xlabel(\"Predicted probability\")\n",
    "    ax1.set_ylabel(\"Count\")\n",
    "\n",
    "    f1s_model = []\n",
    "    f1s_calltaker = []\n",
    "    for low, high in zip(bin_edges[:-1], bin_edges[1:]):\n",
    "        cond = (model_probs >= low) & (model_probs < high)\n",
    "        \n",
    "        f1_score = sklearn.metrics.f1_score(targets[cond], model_preds[cond])\n",
    "        f1s_model.append(f1_score)\n",
    "        \n",
    "        f1_score_calltaker = sklearn.metrics.f1_score(targets[cond], human_preds[cond])\n",
    "        f1s_calltaker.append(f1_score_calltaker)\n",
    "\n",
    "    f1s_model = np.array(f1s_model)\n",
    "    f1s_calltaker = np.array(f1s_calltaker)\n",
    "\n",
    "    fig2 = plt.figure(figsize=(6.4, 4.8))\n",
    "    ax2 = fig2.gca()\n",
    "\n",
    "    ax2.bar(bin_edges[:-1], f1s_model, width=bin_widths, align=\"edge\", alpha=0.5, label=model_label)\n",
    "    ax2.bar(bin_edges[:-1], f1s_calltaker, width=bin_widths, align=\"edge\", alpha=0.5, label=target_label)\n",
    "\n",
    "    ax2.set_ylabel(\"F1-score\")\n",
    "\n",
    "    ax2.set_xlabel(\"Predicted probability\")\n",
    "    ax2.legend(loc=\"upper left\")\n",
    "    return (fig1, ax1), (fig2, ax2)"
   ]
  },
  {
   "cell_type": "code",
   "execution_count": null,
   "metadata": {},
   "outputs": [],
   "source": [
    "plot_f1_score_vs_probabilities(median_ensemble_test[\"y\"], median_ensemble_test[\"ensemble_probs\"], median_ensemble_test[\"ensemble_preds\"], median_ensemble_test[\"h\"], \"Uncalibrated ensemble\", \"Call-taker\", num_bins=10)"
   ]
  },
  {
   "cell_type": "code",
   "execution_count": null,
   "metadata": {},
   "outputs": [],
   "source": [
    "(fig1, ax1), (fig2, ax2) = plot_f1_score_vs_probabilities(median_ensemble_test[\"y\"], ensemble_probs_isotonic, median_ensemble_test[\"ensemble_preds\"], median_ensemble_test[\"h\"], \"Calibrated ensemble (isotonic)\", \"Call-taker\", num_bins=10)\n",
    "ax1.set_xlim(0, 0.64)\n",
    "ax2.set_xlim(0, 0.64)\n",
    "\n",
    "fig1.savefig(\"predicted_probability_histogram.pdf\", bbox_inches=\"tight\")\n",
    "fig2.savefig(\"f1_score_vs_predicted_probability_ensemble_calltaker.pdf\", bbox_inches=\"tight\")\n"
   ]
  },
  {
   "cell_type": "code",
   "execution_count": null,
   "metadata": {},
   "outputs": [],
   "source": [
    "ensemble_probs_isotonic_val.shape, median_ensemble_val[\"y\"].shape, median_ensemble_val[\"ensemble_preds\"].shape"
   ]
  },
  {
   "cell_type": "code",
   "execution_count": null,
   "metadata": {},
   "outputs": [],
   "source": [
    "plot_f1_score_vs_probabilities(\n",
    "    median_ensemble_val[\"y\"],\n",
    "    ensemble_probs_isotonic_val,\n",
    "    median_ensemble_val[\"ensemble_preds\"],\n",
    "    median_ensemble_val[\"h\"],\n",
    "    \"Calibrated ensemble (isotonic) [val]\",\n",
    "    \"Call-taker [val]\",\n",
    "    num_bins=10\n",
    ")"
   ]
  },
  {
   "cell_type": "code",
   "execution_count": null,
   "metadata": {},
   "outputs": [],
   "source": [
    "# Evaluate model performance on subset of test set with probability score higher than the threshold (computed on the \n",
    "# validation set) where model F1 drops below call-taker F1\n",
    "\n",
    "def compute_metrics(targets, labels):\n",
    "    \"\"\"Compute and return recall, precision, F1, FPR and FOR.\"\"\"\n",
    "    tp = np.sum((targets == 1) & (labels == 1))\n",
    "    fp = np.sum((targets == 0) & (labels == 1))\n",
    "    tn = np.sum((targets == 0) & (labels == 0))\n",
    "    fn = np.sum((targets == 1) & (labels == 0))\n",
    "\n",
    "    recall = tp / (tp + fn)\n",
    "    precision = tp / (tp + fp)\n",
    "    f1 = 2 * (precision * recall) / (precision + recall)\n",
    "    fpr = fp / (fp + tn)\n",
    "    for_ = fn / (fn + tn)\n",
    "    return recall, precision, f1, fpr, for_\n"
   ]
  },
  {
   "cell_type": "code",
   "execution_count": null,
   "metadata": {},
   "outputs": [],
   "source": [
    "compute_metrics(median_ensemble_test[\"y\"], median_ensemble_test[\"ensemble_preds\"])"
   ]
  },
  {
   "cell_type": "code",
   "execution_count": null,
   "metadata": {},
   "outputs": [],
   "source": [
    "compute_metrics(median_ensemble_test[\"y\"], ensemble_probs_isotonic > 0.0748)"
   ]
  },
  {
   "cell_type": "code",
   "execution_count": null,
   "metadata": {},
   "outputs": [],
   "source": [
    "cond = ensemble_probs_isotonic >= 0.05\n",
    "compute_metrics(median_ensemble_test[\"y\"][cond], median_ensemble_test[\"ensemble_preds\"][cond])"
   ]
  },
  {
   "cell_type": "code",
   "execution_count": null,
   "metadata": {},
   "outputs": [],
   "source": [
    "raise Exception(\"Stop here\")"
   ]
  },
  {
   "cell_type": "code",
   "execution_count": null,
   "metadata": {},
   "outputs": [],
   "source": [
    "# F1-score ratio of model and call-taker as function of model output probabilities\n",
    "\n",
    "num_bins = 10\n",
    "bin_edges = [i**2 for i in range(1, num_bins, 1)] #np.linspace(0, 1, num_bins + 1)\n",
    "bin_edges[0] = 0.0\n",
    "bin_edges = np.array(bin_edges) / (num_bins)**2\n",
    "hist, bin_edges = np.histogram(ensemble_probs_isotonic, bins=bin_edges)\n",
    "print(\"Bin edges: \", bin_edges)\n",
    "\n",
    "bin_widths = bin_edges[1:] - bin_edges[:-1]\n",
    "\n",
    "fig = plt.figure(figsize=(6.4, 4.8))\n",
    "ax = fig.gca()\n",
    "ax.bar(bin_edges[:-1], hist, width=bin_edges[1] - bin_edges[0], align=\"edge\", alpha=0.5, label=\"Isotonic\")\n",
    "ax.set_yscale(\"log\")\n",
    "\n",
    "f1s_model = []\n",
    "f1s_calltaker = []\n",
    "x = ensemble_probs_isotonic #[ensemble_probs_isotonic < cutoff]\n",
    "for low, high in zip(bin_edges[:-1], bin_edges[1:]):\n",
    "    cond = (x >= low) & (x < high)\n",
    "    \n",
    "    f1_score = sklearn.metrics.f1_score(median_ensemble_test[\"y\"][cond], median_ensemble_test[\"ensemble_preds\"][cond])\n",
    "    f1s_model.append(f1_score)\n",
    "    \n",
    "    f1_score_calltaker = sklearn.metrics.f1_score(median_ensemble_test[\"y\"][cond], median_ensemble_test[\"h\"][cond])\n",
    "    f1s_calltaker.append(f1_score_calltaker)\n",
    "\n",
    "f1s_model = np.array(f1s_model)\n",
    "f1s_calltaker = np.array(f1s_calltaker)\n",
    "\n",
    "f1s_ratio = f1s_model / f1s_calltaker\n",
    "\n",
    "fig = plt.figure(figsize=(6.4, 4.8))\n",
    "ax = fig.gca()\n",
    "\n",
    "ax.bar(bin_edges[:-1], f1s_model, width=bin_widths, align=\"edge\", alpha=0.5, label=\"Calibrated ensemble (isotonic)\")\n",
    "ax.bar(bin_edges[:-1], f1s_calltaker, width=bin_widths, align=\"edge\", alpha=0.5, label=\"Call taker\")\n",
    "\n",
    "# ax2 = ax.twinx()\n",
    "# ax2.plot(bin_edges[:-1] + 0.5 * bin_widths, f1s_ratio, label=\"Model/call-taker F1-score ratio\", color=\"black\", linestyle=\"dashed\")\n",
    "\n",
    "ax.set_xlim(0, bin_edges[-2])\n",
    "\n",
    "ax.set_ylabel(\"F1-score\")\n",
    "# ax2.set_ylabel(\"F1-score ratio\")\n",
    "\n",
    "ax.set_xlabel(\"Predicted probability\")\n",
    "ax.legend(loc=\"upper left\")\n",
    "# ax2.legend()\n",
    "\n",
    "fig.savefig(\"f1_score_ratio.pdf\", bbox_inches=\"tight\")"
   ]
  },
  {
   "cell_type": "code",
   "execution_count": null,
   "metadata": {},
   "outputs": [],
   "source": []
  },
  {
   "cell_type": "code",
   "execution_count": null,
   "metadata": {},
   "outputs": [],
   "source": []
  },
  {
   "cell_type": "code",
   "execution_count": null,
   "metadata": {},
   "outputs": [],
   "source": []
  },
  {
   "cell_type": "code",
   "execution_count": null,
   "metadata": {},
   "outputs": [],
   "source": []
  },
  {
   "cell_type": "code",
   "execution_count": null,
   "metadata": {},
   "outputs": [],
   "source": []
  },
  {
   "cell_type": "code",
   "execution_count": null,
   "metadata": {},
   "outputs": [],
   "source": []
  },
  {
   "cell_type": "code",
   "execution_count": null,
   "metadata": {},
   "outputs": [],
   "source": []
  },
  {
   "cell_type": "code",
   "execution_count": null,
   "metadata": {},
   "outputs": [],
   "source": []
  },
  {
   "cell_type": "code",
   "execution_count": null,
   "metadata": {},
   "outputs": [],
   "source": []
  },
  {
   "cell_type": "code",
   "execution_count": null,
   "metadata": {},
   "outputs": [],
   "source": []
  },
  {
   "cell_type": "code",
   "execution_count": null,
   "metadata": {},
   "outputs": [],
   "source": []
  },
  {
   "cell_type": "code",
   "execution_count": null,
   "metadata": {},
   "outputs": [],
   "source": []
  },
  {
   "cell_type": "code",
   "execution_count": null,
   "metadata": {},
   "outputs": [],
   "source": [
    "# What is the fraction of calls where the model and call-taker agree as a function of the model probability?\n",
    "z_twosided = scipy.stats.norm.ppf(.975)\n",
    "\n",
    "agreement = median_ensemble_test[\"ensemble_preds\"] == median_ensemble_test[\"h\"]\n",
    "\n",
    "# - calibrated (isotonic)\n",
    "hist_agreement_isotonic, _ = np.histogram(ensemble_probs_isotonic[agreement], bins=bin_edges, range=(0, 1))\n",
    "hist_isotonic, _ = np.histogram(ensemble_probs_isotonic, bins=bin_edges, range=(0, 1))\n",
    "frac_agreement_isotonic = hist_agreement_isotonic / hist_isotonic\n",
    "\n",
    "print(\"bin_edges[:-1]: \", bin_edges[:-1])\n",
    "print(\"hist_isotonic: \", hist_isotonic)\n",
    "print(\"frac_agreement_isotonic: \", frac_agreement_isotonic)\n",
    "\n",
    "\n",
    "frac_agreement_isotonic_ci = z_twosided * np.sqrt(frac_agreement_isotonic * (1 - frac_agreement_isotonic) / hist_isotonic)\n",
    "\n",
    "\n",
    "fig = plt.figure(figsize=(6.4, 4.8))\n",
    "ax = fig.gca()\n",
    "\n",
    "# ax.plot(bin_edges_uncalibrated[:-1], frac_agreement_uncalibrated, label=\"Uncalibrated\")\n",
    "# ax.fill_between(\n",
    "#     bin_edges_uncalibrated[:-1],\n",
    "#     (frac_agreement_uncalibrated - frac_agreement_uncalibrated_ci),\n",
    "#     (frac_agreement_uncalibrated + frac_agreement_uncalibrated_ci),\n",
    "#     alpha=0.3,\n",
    "# )\n",
    "\n",
    "ax.plot(bin_edges[:-1], frac_agreement_isotonic, label=\"Isotonic\")\n",
    "# ax.fill_between(\n",
    "#     bin_edges[:-1],\n",
    "#     (frac_agreement_isotonic - frac_agreement_isotonic_ci),\n",
    "#     (frac_agreement_isotonic + frac_agreement_isotonic_ci),\n",
    "#     alpha=0.3,\n",
    "# )\n",
    "\n",
    "# ax.set_xlim(0, bin_edges[-2])\n",
    "ax.set_ylim(0, 1)\n",
    "\n",
    "ax.set_xlabel(\"Predicted probability\")\n",
    "ax.set_ylabel(\"Fraction of calls with agreement\")\n",
    "\n",
    "ax.legend()\n",
    "\n",
    "fig.savefig(\"model_calltaker_agreement_fraction.pdf\", bbox_inches=\"tight\")"
   ]
  },
  {
   "cell_type": "code",
   "execution_count": null,
   "metadata": {},
   "outputs": [],
   "source": [
    "def compute_metrics(targets, labels)"
   ]
  },
  {
   "cell_type": "code",
   "execution_count": null,
   "metadata": {},
   "outputs": [],
   "source": []
  },
  {
   "cell_type": "code",
   "execution_count": null,
   "metadata": {},
   "outputs": [],
   "source": [
    "# What is the fraction of calls where the model and call-taker agree as a function of the model probability?\n",
    "z_twosided = scipy.stats.norm.ppf(.975)\n",
    "\n",
    "correct_agreement = median_ensemble_test[\"ensemble_preds\"] == median_ensemble_test[\"h\"]\n",
    "correct_agreement = correct_agreement == median_ensemble_test[\"y\"]\n",
    "\n",
    "wrong_agreement = median_ensemble_test[\"ensemble_preds\"] == median_ensemble_test[\"h\"]\n",
    "wrong_agreement = wrong_agreement != median_ensemble_test[\"y\"]\n",
    "\n",
    "# - uncalibrated\n",
    "bins = 20\n",
    "bin_edges_uncalibrated = np.linspace(0, 1, bins + 1)\n",
    "\n",
    "hist_agreement_uncalibrated, _ = np.histogram(median_ensemble_test[\"ensemble_probs\"][correct_agreement], bins=bin_edges_uncalibrated, range=(0, 1))\n",
    "hist_uncalibrated, _ = np.histogram(median_ensemble_test[\"ensemble_probs\"], bins=bin_edges_uncalibrated, range=(0, 1))\n",
    "frac_agreement_uncalibrated = hist_agreement_uncalibrated / hist_uncalibrated\n",
    "\n",
    "frac_agreement_uncalibrated_ci = z_twosided * np.sqrt(frac_agreement_uncalibrated * (1 - frac_agreement_uncalibrated) / hist_uncalibrated)\n",
    "\n",
    "# - calibrated (isotonic)\n",
    "bins = 20\n",
    "bin_edges_isotonic = np.array([0, 0.05, 0.11, 0.18, 0.26, 0.40, 1])\n",
    "# bin_edges_isotonic = np.linspace(0, 0.4, bins + 1)\n",
    "# bin_edges_isotonic = np.logspace(-3, 0, bins + 1)\n",
    "# bin_edges_isotonic = np.quantile(ensemble_probs_isotonic, np.linspace(0, 1, bins + 1))\n",
    "\n",
    "hist_agreement_isotonic, _ = np.histogram(ensemble_probs_isotonic[correct_agreement], bins=bin_edges_isotonic, range=(0, 1))\n",
    "hist_isotonic, _ = np.histogram(ensemble_probs_isotonic, bins=bin_edges_isotonic, range=(0, 1))\n",
    "frac_agreement_isotonic = hist_agreement_isotonic / hist_isotonic\n",
    "\n",
    "frac_agreement_isotonic_ci = z_twosided * np.sqrt(frac_agreement_isotonic * (1 - frac_agreement_isotonic) / hist_isotonic)\n",
    "\n",
    "\n",
    "fig = plt.figure(figsize=(6.4, 4.8))\n",
    "ax = fig.gca()\n",
    "\n",
    "ax.plot(bin_edges_uncalibrated[:-1], frac_agreement_uncalibrated, label=\"Uncalibrated\")\n",
    "ax.fill_between(\n",
    "    bin_edges_uncalibrated[:-1],\n",
    "    (frac_agreement_uncalibrated - frac_agreement_uncalibrated_ci),\n",
    "    (frac_agreement_uncalibrated + frac_agreement_uncalibrated_ci),\n",
    "    alpha=0.3,\n",
    ")\n",
    "\n",
    "ax.plot(bin_edges_isotonic[:-1], frac_agreement_isotonic, label=\"Isotonic\")\n",
    "ax.fill_between(\n",
    "    bin_edges_isotonic[:-1],\n",
    "    (frac_agreement_isotonic - frac_agreement_isotonic_ci),\n",
    "    (frac_agreement_isotonic + frac_agreement_isotonic_ci),\n",
    "    alpha=0.3,\n",
    ")\n",
    "\n",
    "ax.set_xlim(0, 1)\n",
    "ax.set_ylim(0, 1)\n",
    "\n",
    "ax.set_xlabel(\"Predicted probability\")\n",
    "ax.set_ylabel(\"Fraction of calls with agreement\")\n",
    "\n",
    "ax.legend()\n",
    "\n",
    "fig.savefig(\"wrong_agreement_fraction.pdf\", bbox_inches=\"tight\")"
   ]
  },
  {
   "cell_type": "code",
   "execution_count": null,
   "metadata": {},
   "outputs": [],
   "source": []
  },
  {
   "cell_type": "code",
   "execution_count": null,
   "metadata": {},
   "outputs": [],
   "source": [
    "hist_agg, hist"
   ]
  },
  {
   "cell_type": "code",
   "execution_count": null,
   "metadata": {},
   "outputs": [],
   "source": []
  },
  {
   "cell_type": "code",
   "execution_count": null,
   "metadata": {},
   "outputs": [],
   "source": []
  },
  {
   "cell_type": "code",
   "execution_count": null,
   "metadata": {},
   "outputs": [],
   "source": [
    "arrays = [median_ensemble_test[\"ensemble_probs\"], ensemble_probs_logistic, ensemble_probs_isotonic]#, ensemble_probs_mlp]\n",
    "labels = [\"Ensemble uncalibrated\", \"Ensemble logistic calibration\", \"Ensemble isotonic calibration\", \"Ensemble MLP calibration\"]\n"
   ]
  },
  {
   "cell_type": "code",
   "execution_count": null,
   "metadata": {},
   "outputs": [],
   "source": [
    "median_ensemble_test[\"ensemble_probs\"]"
   ]
  },
  {
   "cell_type": "code",
   "execution_count": null,
   "metadata": {},
   "outputs": [],
   "source": [
    "uncalibrated_probs_pos = median_ensemble_test[\"ensemble_probs\"][median_ensemble_test[\"h\"] == 1]\n",
    "uncalibrated_probs_neg = median_ensemble_test[\"ensemble_probs\"][median_ensemble_test[\"h\"] == 0]\n",
    "\n",
    "calibrated_probs_pos = ensemble_probs_isotonic[median_ensemble_test[\"y\"] == 1]\n",
    "calibrated_probs_neg = ensemble_probs_isotonic[median_ensemble_test[\"y\"] == 0]\n",
    "\n",
    "fig = plt.figure(figsize=(6.4, 4.8))\n",
    "ax = fig.gca()\n",
    "ax.violinplot([calibrated_probs_neg, calibrated_probs_pos], positions=[0, 1], showmedians=True, bw_method=0.2)\n",
    "ax.set_xticks([0, 1])\n",
    "ax.set_xticklabels([\"Negative\", \"Positive\"])\n",
    "# ax.set_xlabel(\"Predicted probability\")\n",
    "# ax.violinplot([uncalibrated_probs_neg, uncalibrated_probs_pos], positions=[0, 1], showmedians=True)"
   ]
  },
  {
   "cell_type": "code",
   "execution_count": null,
   "metadata": {},
   "outputs": [],
   "source": [
    "x, y = calibration_curve(\n",
    "    median_ensemble_test[\"h\"],\n",
    "    median_ensemble_test[\"ensemble_probs\"],\n",
    "    n_bins=30,\n",
    "    strategy=\"uniform\",\n",
    ")\n",
    "plt.plot(x, y)"
   ]
  },
  {
   "cell_type": "code",
   "execution_count": null,
   "metadata": {},
   "outputs": [],
   "source": [
    "dispatcher_correct = median_ensemble_test[\"h\"] == median_ensemble_test[\"y\"]\n",
    "model_correct = median_ensemble_test[\"ensemble_preds\"] == median_ensemble_test[\"y\"]\n",
    "\n",
    "fig = plt.figure(figsize=(6.4, 4.8))\n",
    "ax = fig.gca()\n",
    "ax.hist(median_ensemble_test[\"ensemble_probs\"][dispatcher_correct], bins=30, alpha=0.5, label=\"Dispatcher correct\")"
   ]
  },
  {
   "cell_type": "code",
   "execution_count": null,
   "metadata": {},
   "outputs": [],
   "source": [
    "ax.violinplot?"
   ]
  },
  {
   "cell_type": "code",
   "execution_count": null,
   "metadata": {},
   "outputs": [],
   "source": [
    "median_ensemble_test[\"y\"].astype(int).to_numpy()"
   ]
  },
  {
   "cell_type": "code",
   "execution_count": null,
   "metadata": {},
   "outputs": [],
   "source": [
    "raise Exception(\"Stop here\")"
   ]
  },
  {
   "cell_type": "markdown",
   "metadata": {},
   "source": [
    "# Ensemble of ensembles"
   ]
  },
  {
   "cell_type": "code",
   "execution_count": null,
   "metadata": {},
   "outputs": [],
   "source": [
    "all_ensembles_test"
   ]
  },
  {
   "cell_type": "code",
   "execution_count": null,
   "metadata": {},
   "outputs": [],
   "source": [
    "all_ensembles_val"
   ]
  },
  {
   "cell_type": "code",
   "execution_count": null,
   "metadata": {},
   "outputs": [],
   "source": [
    "all_ensembles_test_probs = [all_ensembles_test[f\"ensemble {i} probs\"] for i in range(1, 12)]\n",
    "labels = [f\"Ensemble {i}\" for i in range(1, 12)]\n",
    "\n",
    "plot_calibration_curve(\n",
    "    targets=median_ensemble_test[\"y\"],\n",
    "    model_probs=all_ensembles_test_probs,\n",
    "    labels=labels,\n",
    "    n_bins=20,\n",
    ")"
   ]
  },
  {
   "cell_type": "code",
   "execution_count": null,
   "metadata": {},
   "outputs": [],
   "source": [
    "all_ensembles_test_probs = np.stack([all_ensembles_test[f\"ensemble {i} probs\"] for i in range(1, 12)])\n",
    "all_ensembles_test_preds = np.stack([all_ensembles_test[f\"ensemble {i} preds\"] for i in range(1, 12)])\n",
    "all_ensembles_val_probs = np.stack([all_ensembles_val[f\"ensemble {i} probs\"] for i in range(1, 12)])\n",
    "all_ensembles_val_preds = np.stack([all_ensembles_val[f\"ensemble {i} preds\"] for i in range(1, 12)])\n",
    "all_ensembles_test_preds.shape"
   ]
  },
  {
   "cell_type": "code",
   "execution_count": null,
   "metadata": {},
   "outputs": [],
   "source": [
    "med_ensemble_test = median_ensemble_test[\"ensemble_probs\"]\n",
    "# majority_vote_test = np.mean(all_ensembles_test_preds, axis=0) > 0.5\n",
    "super_ensemble_probs_test = scipy.stats.hmean(all_ensembles_test_probs, axis=0)\n",
    "mean_ensemble_probs_test = np.mean(all_ensembles_test_probs, axis=0)\n",
    "\n",
    "med_ensemble_val = median_ensemble_val[\"ensemble_probs\"]\n",
    "# majority_vote_val = np.mean(all_ensembles_test_preds, axis=0) > 0.5\n",
    "super_ensemble_probs_val = scipy.stats.hmean(all_ensembles_val_probs, axis=0)\n",
    "mean_ensemble_probs_val = np.mean(all_ensembles_val_probs, axis=0)"
   ]
  },
  {
   "cell_type": "code",
   "execution_count": null,
   "metadata": {},
   "outputs": [],
   "source": [
    "plot_calibration_curve(\n",
    "    targets=median_ensemble_test[\"y\"],\n",
    "    model_probs=[med_ensemble_test, super_ensemble_probs_test, mean_ensemble_probs_test],\n",
    "    labels=[\"Median ensemble\", \"Harmonic mean of all ensembles\", \"Mean of all ensembles\"],\n",
    "    n_bins=20,\n",
    ")\n",
    "plot_histogram(arrays=[med_ensemble_test, super_ensemble_probs_test, mean_ensemble_probs_test], labels=[\"Majority vote\", \"Super ensemble\", \"Mean ensemble\"])"
   ]
  },
  {
   "cell_type": "markdown",
   "metadata": {},
   "source": [
    "## Platt scaling"
   ]
  },
  {
   "cell_type": "code",
   "execution_count": null,
   "metadata": {},
   "outputs": [],
   "source": [
    "logistic = LogisticRegression(penalty=\"none\", fit_intercept=True)\n",
    "logistic.fit(super_ensemble_probs_val[:, np.newaxis], median_ensemble_val[\"y\"].to_numpy())\n",
    "ensemble_probs_logistic = logistic.predict_proba(super_ensemble_probs_test[:, np.newaxis])[:, 1]"
   ]
  },
  {
   "cell_type": "code",
   "execution_count": null,
   "metadata": {},
   "outputs": [],
   "source": [
    "logistic.coef_, logistic.intercept_, logistic.n_iter_"
   ]
  },
  {
   "cell_type": "code",
   "execution_count": null,
   "metadata": {},
   "outputs": [],
   "source": [
    "ensemble_probs_logistic.min(), ensemble_probs_logistic.max()"
   ]
  },
  {
   "cell_type": "code",
   "execution_count": null,
   "metadata": {},
   "outputs": [],
   "source": [
    "plot_calibration_curve(\n",
    "    targets=median_ensemble_test[\"y\"],\n",
    "    model_probs=[ensemble_probs_logistic],\n",
    "    labels=[\"Ensemble\"],\n",
    "    n_bins=20,\n",
    ")\n",
    "plot_histogram(arrays=[ensemble_probs_logistic], labels=[\"Ensemble\"])"
   ]
  },
  {
   "cell_type": "code",
   "execution_count": null,
   "metadata": {},
   "outputs": [],
   "source": [
    "is_old = median_ensemble_test[\"age\"] >= 65\n",
    "plot_calibration_curve(\n",
    "    targets=[median_ensemble_test[\"y\"][is_old], median_ensemble_test[\"y\"][~is_old]],\n",
    "    model_probs=[ensemble_probs_logistic[is_old], ensemble_probs_logistic[~is_old]],\n",
    "    labels=[\"65+\", \"18-65\"],\n",
    "    n_bins=20,\n",
    ")\n",
    "plot_histogram(\n",
    "    arrays=[ensemble_probs_logistic[is_old], ensemble_probs_logistic[~is_old]],\n",
    "    labels=[\"65+\", \"18-65\"],\n",
    ")"
   ]
  },
  {
   "cell_type": "markdown",
   "metadata": {},
   "source": [
    "## Isotonic"
   ]
  },
  {
   "cell_type": "code",
   "execution_count": null,
   "metadata": {},
   "outputs": [],
   "source": [
    "isotonic = IsotonicRegression(y_min=0, y_max=1, increasing=True, out_of_bounds=\"clip\")\n",
    "isotonic.fit(super_ensemble_probs_val, median_ensemble_val[\"y\"])\n",
    "ensemble_probs_isotonic = isotonic.transform(super_ensemble_probs_test)"
   ]
  },
  {
   "cell_type": "code",
   "execution_count": null,
   "metadata": {},
   "outputs": [],
   "source": [
    "plot_histogram(arrays=[ensemble_probs_isotonic], labels=[\"Ensemble validation\"])"
   ]
  },
  {
   "cell_type": "code",
   "execution_count": null,
   "metadata": {},
   "outputs": [],
   "source": [
    "fig, ax = plt.subplots(figsize=(6.4, 4.8))\n",
    "ax.plot([0, 1], [0, 1], \"k:\", label=\"Perfect calibration\")\n",
    "ax.plot(isotonic.X_thresholds_, isotonic.y_thresholds_, \"-\", marker=\"o\", markersize=3, label=\"Isotonic\")"
   ]
  },
  {
   "cell_type": "code",
   "execution_count": null,
   "metadata": {},
   "outputs": [],
   "source": [
    "plot_calibration_curve(\n",
    "    targets=median_ensemble_test[\"y\"],\n",
    "    model_probs=[ensemble_probs_isotonic],\n",
    "    labels=[\"Ensemble\"],\n",
    "    n_bins=20,\n",
    ")\n",
    "plot_histogram(arrays=[ensemble_probs_isotonic], labels=[\"Ensemble\"])"
   ]
  }
 ],
 "metadata": {
  "kernelspec": {
   "display_name": "thesis",
   "language": "python",
   "name": "python3"
  },
  "language_info": {
   "codemirror_mode": {
    "name": "ipython",
    "version": 3
   },
   "file_extension": ".py",
   "mimetype": "text/x-python",
   "name": "python",
   "nbconvert_exporter": "python",
   "pygments_lexer": "ipython3",
   "version": "3.11.5"
  },
  "orig_nbformat": 4
 },
 "nbformat": 4,
 "nbformat_minor": 2
}
