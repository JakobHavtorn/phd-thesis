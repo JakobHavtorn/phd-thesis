{
 "cells": [
  {
   "cell_type": "code",
   "execution_count": null,
   "metadata": {},
   "outputs": [],
   "source": [
    "# conda env create --force -f environment.yml"
   ]
  },
  {
   "cell_type": "code",
   "execution_count": null,
   "metadata": {},
   "outputs": [],
   "source": [
    "import matplotlib.pyplot as plt\n",
    "import numpy as np\n",
    "import pandas as pd\n",
    "import sklearn\n",
    "import scipy\n",
    "\n",
    "from typing import List\n",
    "\n",
    "from sklearn.calibration import calibration_curve\n",
    "from sklearn.isotonic import IsotonicRegression\n",
    "from sklearn.linear_model import LogisticRegression\n",
    "from sklearn.neural_network import MLPRegressor"
   ]
  },
  {
   "cell_type": "code",
   "execution_count": null,
   "metadata": {},
   "outputs": [],
   "source": [
    "plt.style.use(\"seaborn-v0_8-deep\")"
   ]
  },
  {
   "cell_type": "markdown",
   "metadata": {},
   "source": [
    "# Load data"
   ]
  },
  {
   "cell_type": "code",
   "execution_count": null,
   "metadata": {},
   "outputs": [],
   "source": [
    "median_ensemble_test = pd.read_csv(\"./delivery_1_cv_v7_seeds/split_v7_2021_test_cc_dispatcher_precision_recall_harmonic_mean_median_ensemble_individual_predictions.csv\")\n",
    "median_ensemble_val = pd.read_csv(\"./delivery_1_cv_v7_seeds/split_v7_2021_test_cc_dispatcher_precision_recall_harmonic_mean_median_ensemble_individual_predictions_val.csv\")"
   ]
  },
  {
   "cell_type": "code",
   "execution_count": null,
   "metadata": {},
   "outputs": [],
   "source": [
    "all_ensembles_test = pd.read_csv(\"./delivery_1_cv_v7_seeds/split_v7_2021_test_cc_dispatcher_precision_recall_harmonic_mean_predictions.csv\")\n",
    "all_ensembles_val = pd.read_csv(\"./delivery_1_cv_v7_seeds/split_v7_2021_test_cc_dispatcher_precision_recall_harmonic_mean_predictions_val.csv\")"
   ]
  },
  {
   "cell_type": "code",
   "execution_count": null,
   "metadata": {},
   "outputs": [],
   "source": [
    "column_map = {\n",
    "    \"logits 20\": \"logits 1\",\n",
    "    \"logits 21\": \"logits 2\",\n",
    "    \"logits 22\": \"logits 3\",\n",
    "    \"logits 23\": \"logits 4\",\n",
    "    \"logits 24\": \"logits 5\",\n",
    "    \"probs 20\": \"probs 1\",\n",
    "    \"probs 21\": \"probs 2\",\n",
    "    \"probs 22\": \"probs 3\",\n",
    "    \"probs 23\": \"probs 4\",\n",
    "    \"probs 24\": \"probs 5\",\n",
    "}\n",
    "median_ensemble_test.rename(columns=column_map, inplace=True)\n",
    "median_ensemble_test[\"ensemble_preds\"] = median_ensemble_test[\"ensemble_probs\"] > 0.5\n",
    "\n",
    "median_ensemble_val.rename(columns=column_map, inplace=True)\n",
    "median_ensemble_val[\"ensemble_preds\"] = median_ensemble_val[\"ensemble_probs\"] > 0.5\n",
    "\n",
    "median_ensemble_test"
   ]
  },
  {
   "cell_type": "code",
   "execution_count": null,
   "metadata": {},
   "outputs": [],
   "source": [
    "def plot_histogram(arrays: List[np.ndarray], labels: List, **kwargs):\n",
    "    \n",
    "    density = kwargs.get(\"density\", False)\n",
    "    fig, ax = plt.subplots(figsize=(6.4, 4.8))\n",
    "\n",
    "    for array, label in zip(arrays, labels):\n",
    "        ax.hist(array, bins=kwargs.get(\"bins\", 50), alpha=kwargs.get(\"alpha\", 0.5), label=label, density=density)\n",
    "\n",
    "    ax.set_yscale(kwargs.get(\"yscale\", \"log\"))\n",
    "    ax.set_xlabel(\"Predicted probability\")\n",
    "    if density:\n",
    "        ax.set_ylabel(\"Density\")\n",
    "    else:\n",
    "        ax.set_ylabel(\"Count\")\n",
    "    ax.legend()\n",
    "    return fig, ax"
   ]
  },
  {
   "cell_type": "code",
   "execution_count": null,
   "metadata": {},
   "outputs": [],
   "source": [
    "def plot_calibration_curve(targets: List[np.ndarray], model_probs: List[np.ndarray], labels=None, **kwargs):\n",
    "    if not isinstance(targets, list):\n",
    "        targets = [targets]\n",
    "    if not isinstance(model_probs, list):\n",
    "        model_probs = [model_probs]\n",
    "\n",
    "    if len(model_probs) != len(targets):\n",
    "        assert len(model_probs) == 1 or len(targets) == 1, \"Number of models and targets must be equal or 1\"\n",
    "        if len(model_probs) == 1:\n",
    "            model_probs = model_probs * len(targets)\n",
    "        else:\n",
    "            targets = targets * len(model_probs)\n",
    "\n",
    "    fig, ax = plt.subplots(figsize=(6.4, 4.8))\n",
    "    ax.plot([0, 1], [0, 1], \"k:\", label=\"Perfectly calibrated\")\n",
    "\n",
    "    for target, probs, label in zip(targets, model_probs, labels):\n",
    "        prob_true, prob_pred = calibration_curve(\n",
    "            target,\n",
    "            probs,\n",
    "            n_bins=kwargs.get(\"n_bins\", 20),\n",
    "            strategy=kwargs.get(\"strategy\", \"uniform\"),\n",
    "        )\n",
    "        ax.plot(prob_pred, prob_true, marker=\"o\", markersize=3, label=label)\n",
    "\n",
    "    ax.set_xlabel(\"Mean predicted probability\")\n",
    "    ax.set_ylabel(\"Fraction of positives\")\n",
    "    ax.legend()\n",
    "    return fig, ax"
   ]
  },
  {
   "cell_type": "code",
   "execution_count": null,
   "metadata": {},
   "outputs": [],
   "source": [
    "fig, ax = plot_calibration_curve(\n",
    "    targets=median_ensemble_test[\"y\"],\n",
    "    model_probs=[median_ensemble_test[\"ensemble_probs\"], median_ensemble_test[\"probs 1\"]],\n",
    "    labels=[\"Ensemble\", \"Single model\"],\n",
    "    n_bins=20,\n",
    ")\n",
    "fig.savefig(\"calibration_curve_ensemble_and_single_model_uncalibrated.pdf\", bbox_inches=\"tight\")\n",
    "fig, ax = plot_histogram(arrays=[median_ensemble_test[\"ensemble_probs\"], median_ensemble_test[\"probs 1\"]], labels=[\"Ensemble\", \"Model 1\"], bins=30)\n",
    "fig.savefig(\"histogram_ensemble_and_single_model.pdf\", bbox_inches=\"tight\")"
   ]
  },
  {
   "cell_type": "code",
   "execution_count": null,
   "metadata": {},
   "outputs": [],
   "source": [
    "fig, ax = plot_calibration_curve(\n",
    "    targets=median_ensemble_test[\"y\"],\n",
    "    model_probs=[\n",
    "        median_ensemble_test[\"probs 1\"],\n",
    "        median_ensemble_test[\"probs 2\"],\n",
    "        median_ensemble_test[\"probs 3\"],\n",
    "        median_ensemble_test[\"probs 4\"],\n",
    "        median_ensemble_test[\"probs 5\"],\n",
    "        median_ensemble_test[\"ensemble_probs\"],\n",
    "    ],\n",
    "    labels=[\"Individual model\", \"Individual model\", \"Individual model\", \"Individual model\", \"Individual model\", \"Ensemble\"],\n",
    "    n_bins=20,\n",
    ")\n",
    "fig.savefig(\"calibration_curve_ensemble_and_all_models_uncalibrated.pdf\", bbox_inches=\"tight\")\n",
    "plot_histogram(\n",
    "    arrays=[\n",
    "        median_ensemble_test[\"probs 1\"],\n",
    "        median_ensemble_test[\"probs 2\"],\n",
    "        median_ensemble_test[\"probs 3\"],\n",
    "        median_ensemble_test[\"probs 4\"],\n",
    "        median_ensemble_test[\"probs 5\"],\n",
    "        median_ensemble_test[\"ensemble_probs\"],\n",
    "    ],\n",
    "    labels=[\"Individual model\", \"Individual model\", \"Individual model\", \"Individual model\", \"Individual model\", \"Ensemble\"],\n",
    "    alpha=0.3\n",
    ")"
   ]
  },
  {
   "cell_type": "code",
   "execution_count": null,
   "metadata": {},
   "outputs": [],
   "source": [
    "is_male = median_ensemble_test[\"gender\"] == \"M\"\n",
    "is_female = median_ensemble_test[\"gender\"] == \"K\"\n",
    "plot_calibration_curve(\n",
    "    targets=[median_ensemble_test[\"y\"][is_male], median_ensemble_test[\"y\"][is_female]],\n",
    "    model_probs=[median_ensemble_test[\"ensemble_probs\"][is_male], median_ensemble_test[\"ensemble_probs\"][is_female]],\n",
    "    labels=[\"Male\", \"Female\"],\n",
    "    n_bins=20,\n",
    ")\n",
    "plot_histogram(\n",
    "    arrays=[median_ensemble_test[\"ensemble_probs\"][is_male], median_ensemble_test[\"ensemble_probs\"][is_female]],\n",
    "    labels=[\"Male\", \"Female\"],\n",
    ")"
   ]
  },
  {
   "cell_type": "code",
   "execution_count": null,
   "metadata": {},
   "outputs": [],
   "source": [
    "condition = median_ensemble_test[\"h\"]\n",
    "\n",
    "plot_calibration_curve(\n",
    "    targets=[median_ensemble_test[\"y\"][condition], median_ensemble_test[\"y\"][~condition]],\n",
    "    model_probs=[median_ensemble_test[\"ensemble_probs\"][condition], median_ensemble_test[\"ensemble_probs\"][~condition]],\n",
    "    labels=[\"Call-taker recognition\", \"No call-taker recognition\"],\n",
    "    n_bins=20,\n",
    ")\n",
    "plot_histogram(\n",
    "    arrays=[median_ensemble_test[\"ensemble_probs\"][condition], median_ensemble_test[\"ensemble_probs\"][~condition]],\n",
    "    labels=[\"Call-taker recognition\", \"No call-taker recognition\"],\n",
    ")"
   ]
  },
  {
   "cell_type": "code",
   "execution_count": null,
   "metadata": {},
   "outputs": [],
   "source": [
    "plot_histogram(\n",
    "    arrays=[median_ensemble_test[\"ensemble_probs\"][condition]],\n",
    "    labels=[\"Call-taker recognition\"],\n",
    "    yscale=\"linear\"\n",
    ")"
   ]
  },
  {
   "cell_type": "code",
   "execution_count": null,
   "metadata": {},
   "outputs": [],
   "source": [
    "condition = median_ensemble_test[\"h\"] == median_ensemble_test[\"ensemble_preds\"]\n",
    "\n",
    "plot_calibration_curve(\n",
    "    targets=[median_ensemble_test[\"y\"][condition], median_ensemble_test[\"y\"][~condition]],\n",
    "    model_probs=[median_ensemble_test[\"ensemble_probs\"][condition], median_ensemble_test[\"ensemble_probs\"][~condition]],\n",
    "    labels=[\"Model/call-taker agreement\", \"Model/call-taker disagreement\"],\n",
    "    n_bins=20,\n",
    ")\n",
    "plot_histogram(\n",
    "    arrays=[median_ensemble_test[\"ensemble_probs\"][condition], median_ensemble_test[\"ensemble_probs\"][~condition]],\n",
    "    labels=[\"Model/call-taker agreement\", \"Model/call-taker disagreement\"],\n",
    ")"
   ]
  },
  {
   "cell_type": "code",
   "execution_count": null,
   "metadata": {},
   "outputs": [],
   "source": [
    "is_old = median_ensemble_test[\"age\"] >= 65\n",
    "plot_calibration_curve(\n",
    "    targets=[median_ensemble_test[\"y\"][is_old], median_ensemble_test[\"y\"][~is_old]],\n",
    "    model_probs=[median_ensemble_test[\"ensemble_probs\"][is_old], median_ensemble_test[\"ensemble_probs\"][~is_old]],\n",
    "    labels=[\"65+\", \"18-65\"],\n",
    "    n_bins=20,\n",
    ")\n",
    "plot_histogram(\n",
    "    arrays=[median_ensemble_test[\"ensemble_probs\"][is_old], median_ensemble_test[\"ensemble_probs\"][~is_old]],\n",
    "    labels=[\"65+\", \"18-65\"],\n",
    ")"
   ]
  },
  {
   "cell_type": "code",
   "execution_count": null,
   "metadata": {},
   "outputs": [],
   "source": [
    "condition = median_ensemble_test[\"y\"]\n",
    "\n",
    "plot_calibration_curve(\n",
    "    targets=[median_ensemble_test[\"y\"][condition], median_ensemble_test[\"y\"][~condition]],\n",
    "    model_probs=[median_ensemble_test[\"ensemble_probs\"][condition], median_ensemble_test[\"ensemble_probs\"][~condition]],\n",
    "    labels=[\"Model/call-taker agreement\", \"Model/call-taker disagreement\"],\n",
    "    n_bins=20,\n",
    ")\n",
    "plot_histogram(\n",
    "    arrays=[median_ensemble_test[\"ensemble_probs\"][condition], median_ensemble_test[\"ensemble_probs\"][~condition]],\n",
    "    labels=[\"Model/call-taker agreement\", \"Model/call-taker disagreement\"],\n",
    ")"
   ]
  },
  {
   "cell_type": "markdown",
   "metadata": {},
   "source": [
    "# Calibration"
   ]
  },
  {
   "cell_type": "markdown",
   "metadata": {},
   "source": [
    "## Platt scaling"
   ]
  },
  {
   "cell_type": "code",
   "execution_count": null,
   "metadata": {},
   "outputs": [],
   "source": [
    "logistic = LogisticRegression(penalty=\"none\", fit_intercept=True)\n",
    "logistic.fit(median_ensemble_val[\"ensemble_probs\"].to_numpy()[:, np.newaxis], median_ensemble_val[\"y\"].to_numpy())\n",
    "ensemble_probs_logistic = logistic.predict_proba(median_ensemble_test[\"ensemble_probs\"].to_numpy()[:, np.newaxis])[:, 1]\n",
    "ensemble_probs_logistic_val = logistic.predict_proba(median_ensemble_val[\"ensemble_probs\"].to_numpy()[:, np.newaxis])[:, 1]\n",
    "\n",
    "individual_probs_logistic = []\n",
    "individual_probs_logistic_val = []\n",
    "for i in range(1, 6):\n",
    "    logistic = LogisticRegression(penalty=\"none\", fit_intercept=True)\n",
    "    logistic.fit(median_ensemble_val[f\"probs {i}\"].to_numpy()[:, np.newaxis], median_ensemble_val[\"y\"].to_numpy())\n",
    "    individual_probs_logistic += [logistic.predict_proba(median_ensemble_test[f\"probs {i}\"].to_numpy()[:, np.newaxis])[:, 1]]\n",
    "    individual_probs_logistic_val += [logistic.predict_proba(median_ensemble_val[f\"probs {i}\"].to_numpy()[:, np.newaxis])[:, 1]]"
   ]
  },
  {
   "cell_type": "code",
   "execution_count": null,
   "metadata": {},
   "outputs": [],
   "source": [
    "logistic.coef_, logistic.intercept_, logistic.n_iter_"
   ]
  },
  {
   "cell_type": "code",
   "execution_count": null,
   "metadata": {},
   "outputs": [],
   "source": [
    "ensemble_probs_logistic.min(), ensemble_probs_logistic.max()"
   ]
  },
  {
   "cell_type": "code",
   "execution_count": null,
   "metadata": {},
   "outputs": [],
   "source": [
    "fig, ax = plot_calibration_curve(\n",
    "    targets=median_ensemble_val[\"y\"],\n",
    "    model_probs=[ensemble_probs_logistic_val, *individual_probs_logistic_val],\n",
    "    labels=[\"Ensemble\", *[\"Individual model\"] * 5],\n",
    "    n_bins=20,\n",
    ")\n",
    "plot_histogram(arrays=[ensemble_probs_logistic_val], labels=[\"Ensemble\"])"
   ]
  },
  {
   "cell_type": "code",
   "execution_count": null,
   "metadata": {},
   "outputs": [],
   "source": [
    "fig, ax = plot_calibration_curve(\n",
    "    targets=median_ensemble_test[\"y\"],\n",
    "    # model_probs=[ensemble_probs_logistic, *individual_probs_logistic],\n",
    "    model_probs=[ensemble_probs_logistic, *individual_probs_logistic],\n",
    "    labels=[\"Ensemble\"], #, *[\"Individual model\"] * 5],\n",
    "    n_bins=20,\n",
    "    strategy=\"uniform\",\n",
    "    # n_bins=1000,\n",
    "    # strategy=\"quantile\",\n",
    ")\n",
    "fig.savefig(\"calibration_curve_ensemble_logistic.pdf\", bbox_inches=\"tight\")\n",
    "plot_histogram(arrays=[ensemble_probs_logistic], labels=[\"Ensemble\"])"
   ]
  },
  {
   "cell_type": "markdown",
   "metadata": {},
   "source": [
    "## Isotonic"
   ]
  },
  {
   "cell_type": "code",
   "execution_count": null,
   "metadata": {},
   "outputs": [],
   "source": [
    "isotonic = IsotonicRegression(y_min=0, y_max=1, increasing=True, out_of_bounds=\"clip\")\n",
    "isotonic.fit(median_ensemble_val[\"ensemble_probs\"].to_numpy(), median_ensemble_val[\"y\"].to_numpy())\n",
    "ensemble_probs_isotonic = isotonic.transform(median_ensemble_test[\"ensemble_probs\"].to_numpy())\n",
    "ensemble_probs_isotonic_val = isotonic.transform(median_ensemble_val[\"ensemble_probs\"].to_numpy())\n",
    "\n",
    "individual_probs_isotonic = []\n",
    "individual_probs_isotonic_val = []\n",
    "for i in range(1, 6):\n",
    "    isotonic_i = IsotonicRegression(y_min=0, y_max=1, increasing=True, out_of_bounds=\"clip\")\n",
    "    isotonic_i.fit(median_ensemble_val[f\"probs {i}\"].to_numpy(), median_ensemble_val[\"y\"].to_numpy())\n",
    "    individual_probs_isotonic += [isotonic_i.transform(median_ensemble_test[f\"probs {i}\"].to_numpy())]\n",
    "    individual_probs_isotonic_val += [isotonic_i.transform(median_ensemble_val[f\"probs {i}\"].to_numpy())]"
   ]
  },
  {
   "cell_type": "code",
   "execution_count": null,
   "metadata": {},
   "outputs": [],
   "source": [
    "median_ensemble_val[\"ensemble_probs\"]"
   ]
  },
  {
   "cell_type": "code",
   "execution_count": null,
   "metadata": {},
   "outputs": [],
   "source": [
    "plot_histogram(arrays=[ensemble_probs_isotonic, ensemble_probs_isotonic_val], labels=[\"Ensemble test\", \"Ensemble validation\"])"
   ]
  },
  {
   "cell_type": "code",
   "execution_count": null,
   "metadata": {},
   "outputs": [],
   "source": [
    "fig, ax = plt.subplots(figsize=(6.4, 4.8))\n",
    "ax.plot([0, 1], [0, 1], \"k:\", label=\"Perfectly calibrated\")\n",
    "ax.plot(isotonic.X_thresholds_, isotonic.y_thresholds_, \"-\", marker=\"o\", markersize=3, label=\"Isotonic\")\n",
    "fig.savefig(\"calibration_fit_isotonic.pdf\", bbox_inches=\"tight\")\n",
    "\n",
    "val_pos = median_ensemble_val[\"ensemble_probs\"][median_ensemble_val[\"y\"] == 1]\n",
    "val_neg = median_ensemble_val[\"ensemble_probs\"][median_ensemble_val[\"y\"] == 0]\n",
    "plot_histogram(arrays=[val_neg, val_pos], labels=[\"Ensemble probs (val-neg)\", \"Ensemble probs (val-pos)\"])"
   ]
  },
  {
   "cell_type": "code",
   "execution_count": null,
   "metadata": {},
   "outputs": [],
   "source": [
    "ensemble_probs_isotonic"
   ]
  },
  {
   "cell_type": "code",
   "execution_count": null,
   "metadata": {},
   "outputs": [],
   "source": [
    "fig, ax = plot_calibration_curve(\n",
    "    targets=median_ensemble_val[\"y\"],\n",
    "    model_probs=[ensemble_probs_isotonic_val, *individual_probs_isotonic_val],\n",
    "    labels=[\"Ensemble\"],#, *[\"Individual model\"] * 5],\n",
    "    n_bins=10,\n",
    "    strategy=\"uniform\",\n",
    "    # n_bins=1000,\n",
    "    # strategy=\"quantile\",\n",
    ")\n",
    "fig.savefig(\"calibration_curve_ensemble_isotonic.pdf\", bbox_inches=\"tight\")\n",
    "plot_histogram(arrays=[ensemble_probs_isotonic_val], labels=[\"Ensemble\"])"
   ]
  },
  {
   "cell_type": "code",
   "execution_count": null,
   "metadata": {},
   "outputs": [],
   "source": [
    "fig, ax = plot_calibration_curve(\n",
    "    targets=median_ensemble_test[\"y\"],\n",
    "    model_probs=[ensemble_probs_isotonic, *individual_probs_isotonic],\n",
    "    labels=[\"Ensemble\"],#, *[\"Individual model\"] * 5],\n",
    "    # n_bins=10,\n",
    "    # strategy=\"uniform\",\n",
    "    n_bins=1000,\n",
    "    strategy=\"quantile\",\n",
    ")\n",
    "fig.savefig(\"calibration_curve_ensemble_isotonic.pdf\", bbox_inches=\"tight\")\n",
    "plot_histogram(arrays=[ensemble_probs_isotonic], labels=[\"Ensemble\"])"
   ]
  },
  {
   "cell_type": "code",
   "execution_count": null,
   "metadata": {},
   "outputs": [],
   "source": [
    "median_ensemble_val"
   ]
  },
  {
   "cell_type": "markdown",
   "metadata": {},
   "source": [
    "## MLP"
   ]
  },
  {
   "cell_type": "code",
   "execution_count": null,
   "metadata": {},
   "outputs": [],
   "source": [
    "mlp = MLPRegressor(hidden_layer_sizes=(8, 8, 8), activation=\"relu\", solver=\"adam\", max_iter=1000, random_state=0)\n",
    "mlp.out_activation_ = \"sigmoid\"\n",
    "mlp.fit(median_ensemble_val[\"ensemble_probs\"].to_numpy()[:, np.newaxis], median_ensemble_val[\"y\"].to_numpy()[:, np.newaxis])\n",
    "ensemble_probs_mlp = mlp.predict(median_ensemble_test[\"ensemble_probs\"].to_numpy()[:, np.newaxis]).clip(0)\n",
    "ensemble_probs_mlp_val = mlp.predict(median_ensemble_val[\"ensemble_probs\"].to_numpy()[:, np.newaxis]).clip(0)\n",
    "\n",
    "individual_probs_mlp = []\n",
    "individual_probs_mlp_val = []\n",
    "for i in range(1, 6):\n",
    "    mlp_i = MLPRegressor(hidden_layer_sizes=(8, 8, 8), activation=\"relu\", solver=\"adam\", max_iter=1000, random_state=0)\n",
    "    mlp_i.out_activation_ = \"sigmoid\"\n",
    "    mlp_i.fit(median_ensemble_val[f\"probs {i}\"].to_numpy()[:, np.newaxis], median_ensemble_val[\"y\"].to_numpy()[:, np.newaxis])\n",
    "    individual_probs_mlp += [mlp_i.predict(median_ensemble_test[f\"probs {i}\"].to_numpy()[:, np.newaxis]).clip(0)]\n",
    "    individual_probs_mlp_val += [mlp_i.predict(median_ensemble_val[f\"probs {i}\"].to_numpy()[:, np.newaxis]).clip(0)]"
   ]
  },
  {
   "cell_type": "code",
   "execution_count": null,
   "metadata": {},
   "outputs": [],
   "source": [
    "plot_histogram(arrays=[ensemble_probs_mlp, ensemble_probs_mlp_val], labels=[\"Ensemble test\", \"Ensemble validation\"])"
   ]
  },
  {
   "cell_type": "code",
   "execution_count": null,
   "metadata": {},
   "outputs": [],
   "source": [
    "fig, ax = plot_calibration_curve(\n",
    "    targets=median_ensemble_val[\"y\"],\n",
    "    model_probs=[ensemble_probs_mlp_val, *individual_probs_mlp_val],\n",
    "    labels=[\"Ensemble\"],#, *[\"Individual model\"] * 5],\n",
    "    n_bins=10,\n",
    "    strategy=\"uniform\",\n",
    "    # n_bins=1000,\n",
    "    # strategy=\"quantile\",\n",
    ")\n",
    "# fig.savefig(\"calibration_curve_ensemble_mlp.pdf\", bbox_inches=\"tight\")\n",
    "plot_histogram(arrays=[ensemble_probs_mlp_val], labels=[\"Ensemble\"])"
   ]
  },
  {
   "cell_type": "code",
   "execution_count": null,
   "metadata": {},
   "outputs": [],
   "source": [
    "fig, ax = plot_calibration_curve(\n",
    "    targets=median_ensemble_test[\"y\"],\n",
    "    model_probs=[ensemble_probs_mlp, *individual_probs_mlp],\n",
    "    labels=[\"Ensemble\"],#, *[\"Individual model\"] * 5],\n",
    "    # n_bins=10,\n",
    "    # strategy=\"uniform\",\n",
    "    n_bins=1000,\n",
    "    strategy=\"quantile\",\n",
    ")\n",
    "fig.savefig(\"calibration_curve_ensemble_mlp.pdf\", bbox_inches=\"tight\")\n",
    "plot_histogram(arrays=[ensemble_probs_mlp], labels=[\"Ensemble\"])"
   ]
  },
  {
   "cell_type": "markdown",
   "metadata": {},
   "source": [
    "## Plot-making"
   ]
  },
  {
   "cell_type": "code",
   "execution_count": null,
   "metadata": {},
   "outputs": [],
   "source": [
    "fig, ax = plot_calibration_curve(\n",
    "    targets=median_ensemble_test[\"y\"],\n",
    "    # model_probs=[ensemble_probs_logistic, *individual_probs_logistic],\n",
    "    model_probs=[median_ensemble_test[\"ensemble_probs\"], ensemble_probs_logistic, ensemble_probs_isotonic],\n",
    "    labels=[\"Ensemble uncalibrated\", \"Ensemble logistic calibration\", \"Ensemble isotonic calibration\"], #, *[\"Individual model\"] * 5],\n",
    "    # n_bins=20,\n",
    "    # strategy=\"uniform\",\n",
    "    n_bins=1000,\n",
    "    strategy=\"quantile\",\n",
    ")\n",
    "fig.savefig(\"calibration_curve_ensemble_logistic.pdf\", bbox_inches=\"tight\")\n",
    "plot_histogram(arrays=[median_ensemble_test[\"ensemble_probs\"], ensemble_probs_logistic, ensemble_probs_isotonic], labels=[\"Ensemble uncalibrated\", \"Ensemble logistic calibration\", \"Ensemble isotonic calibration\"])"
   ]
  },
  {
   "cell_type": "code",
   "execution_count": null,
   "metadata": {},
   "outputs": [],
   "source": [
    "raise Exception()"
   ]
  },
  {
   "cell_type": "markdown",
   "metadata": {},
   "source": [
    "# Ensemble of ensembles"
   ]
  },
  {
   "cell_type": "code",
   "execution_count": null,
   "metadata": {},
   "outputs": [],
   "source": [
    "all_ensembles_test"
   ]
  },
  {
   "cell_type": "code",
   "execution_count": null,
   "metadata": {},
   "outputs": [],
   "source": [
    "all_ensembles_val"
   ]
  },
  {
   "cell_type": "code",
   "execution_count": null,
   "metadata": {},
   "outputs": [],
   "source": [
    "all_ensembles_test_probs = [all_ensembles_test[f\"ensemble {i} probs\"] for i in range(1, 12)]\n",
    "labels = [f\"Ensemble {i}\" for i in range(1, 12)]\n",
    "\n",
    "plot_calibration_curve(\n",
    "    targets=median_ensemble_test[\"y\"],\n",
    "    model_probs=all_ensembles_test_probs,\n",
    "    labels=labels,\n",
    "    n_bins=20,\n",
    ")"
   ]
  },
  {
   "cell_type": "code",
   "execution_count": null,
   "metadata": {},
   "outputs": [],
   "source": [
    "all_ensembles_test_probs = np.stack([all_ensembles_test[f\"ensemble {i} probs\"] for i in range(1, 12)])\n",
    "all_ensembles_test_preds = np.stack([all_ensembles_test[f\"ensemble {i} preds\"] for i in range(1, 12)])\n",
    "all_ensembles_val_probs = np.stack([all_ensembles_val[f\"ensemble {i} probs\"] for i in range(1, 12)])\n",
    "all_ensembles_val_preds = np.stack([all_ensembles_val[f\"ensemble {i} preds\"] for i in range(1, 12)])\n",
    "all_ensembles_test_preds.shape"
   ]
  },
  {
   "cell_type": "code",
   "execution_count": null,
   "metadata": {},
   "outputs": [],
   "source": [
    "med_ensemble_test = median_ensemble_test[\"ensemble_probs\"]\n",
    "# majority_vote_test = np.mean(all_ensembles_test_preds, axis=0) > 0.5\n",
    "super_ensemble_probs_test = scipy.stats.hmean(all_ensembles_test_probs, axis=0)\n",
    "mean_ensemble_probs_test = np.mean(all_ensembles_test_probs, axis=0)\n",
    "\n",
    "med_ensemble_val = median_ensemble_val[\"ensemble_probs\"]\n",
    "# majority_vote_val = np.mean(all_ensembles_test_preds, axis=0) > 0.5\n",
    "super_ensemble_probs_val = scipy.stats.hmean(all_ensembles_val_probs, axis=0)\n",
    "mean_ensemble_probs_val = np.mean(all_ensembles_val_probs, axis=0)"
   ]
  },
  {
   "cell_type": "code",
   "execution_count": null,
   "metadata": {},
   "outputs": [],
   "source": [
    "plot_calibration_curve(\n",
    "    targets=median_ensemble_test[\"y\"],\n",
    "    model_probs=[med_ensemble_test, super_ensemble_probs_test, mean_ensemble_probs_test],\n",
    "    labels=[\"Median ensemble\", \"Harmonic mean of all ensembles\", \"Mean of all ensembles\"],\n",
    "    n_bins=20,\n",
    ")\n",
    "plot_histogram(arrays=[med_ensemble_test, super_ensemble_probs_test, mean_ensemble_probs_test], labels=[\"Majority vote\", \"Super ensemble\", \"Mean ensemble\"])"
   ]
  },
  {
   "cell_type": "markdown",
   "metadata": {},
   "source": [
    "## Platt scaling"
   ]
  },
  {
   "cell_type": "code",
   "execution_count": null,
   "metadata": {},
   "outputs": [],
   "source": [
    "logistic = LogisticRegression(penalty=\"none\", fit_intercept=True)\n",
    "logistic.fit(super_ensemble_probs_val[:, np.newaxis], median_ensemble_val[\"y\"].to_numpy())\n",
    "ensemble_probs_logistic = logistic.predict_proba(super_ensemble_probs_test[:, np.newaxis])[:, 1]"
   ]
  },
  {
   "cell_type": "code",
   "execution_count": null,
   "metadata": {},
   "outputs": [],
   "source": [
    "logistic.coef_, logistic.intercept_, logistic.n_iter_"
   ]
  },
  {
   "cell_type": "code",
   "execution_count": null,
   "metadata": {},
   "outputs": [],
   "source": [
    "ensemble_probs_logistic.min(), ensemble_probs_logistic.max()"
   ]
  },
  {
   "cell_type": "code",
   "execution_count": null,
   "metadata": {},
   "outputs": [],
   "source": [
    "plot_calibration_curve(\n",
    "    targets=median_ensemble_test[\"y\"],\n",
    "    model_probs=[ensemble_probs_logistic],\n",
    "    labels=[\"Ensemble\"],\n",
    "    n_bins=20,\n",
    ")\n",
    "plot_histogram(arrays=[ensemble_probs_logistic], labels=[\"Ensemble\"])"
   ]
  },
  {
   "cell_type": "code",
   "execution_count": null,
   "metadata": {},
   "outputs": [],
   "source": [
    "is_old = median_ensemble_test[\"age\"] >= 65\n",
    "plot_calibration_curve(\n",
    "    targets=[median_ensemble_test[\"y\"][is_old], median_ensemble_test[\"y\"][~is_old]],\n",
    "    model_probs=[ensemble_probs_logistic[is_old], ensemble_probs_logistic[~is_old]],\n",
    "    labels=[\"65+\", \"18-65\"],\n",
    "    n_bins=20,\n",
    ")\n",
    "plot_histogram(\n",
    "    arrays=[ensemble_probs_logistic[is_old], ensemble_probs_logistic[~is_old]],\n",
    "    labels=[\"65+\", \"18-65\"],\n",
    ")"
   ]
  },
  {
   "cell_type": "markdown",
   "metadata": {},
   "source": [
    "## Isotonic"
   ]
  },
  {
   "cell_type": "code",
   "execution_count": null,
   "metadata": {},
   "outputs": [],
   "source": [
    "isotonic = IsotonicRegression(y_min=0, y_max=1, increasing=True, out_of_bounds=\"clip\")\n",
    "isotonic.fit(super_ensemble_probs_val, median_ensemble_val[\"y\"])\n",
    "ensemble_probs_isotonic = isotonic.transform(super_ensemble_probs_test)"
   ]
  },
  {
   "cell_type": "code",
   "execution_count": null,
   "metadata": {},
   "outputs": [],
   "source": [
    "plot_histogram(arrays=[ensemble_probs_isotonic], labels=[\"Ensemble validation\"])"
   ]
  },
  {
   "cell_type": "code",
   "execution_count": null,
   "metadata": {},
   "outputs": [],
   "source": [
    "fig, ax = plt.subplots(figsize=(6.4, 4.8))\n",
    "ax.plot([0, 1], [0, 1], \"k:\", label=\"Perfectly calibrated\")\n",
    "ax.plot(isotonic.X_thresholds_, isotonic.y_thresholds_, \"-\", marker=\"o\", markersize=3, label=\"Isotonic\")"
   ]
  },
  {
   "cell_type": "code",
   "execution_count": null,
   "metadata": {},
   "outputs": [],
   "source": [
    "plot_calibration_curve(\n",
    "    targets=median_ensemble_test[\"y\"],\n",
    "    model_probs=[ensemble_probs_isotonic],\n",
    "    labels=[\"Ensemble\"],\n",
    "    n_bins=20,\n",
    ")\n",
    "plot_histogram(arrays=[ensemble_probs_isotonic], labels=[\"Ensemble\"])"
   ]
  }
 ],
 "metadata": {
  "kernelspec": {
   "display_name": "thesis",
   "language": "python",
   "name": "python3"
  },
  "language_info": {
   "codemirror_mode": {
    "name": "ipython",
    "version": 3
   },
   "file_extension": ".py",
   "mimetype": "text/x-python",
   "name": "python",
   "nbconvert_exporter": "python",
   "pygments_lexer": "ipython3",
   "version": "3.11.5"
  },
  "orig_nbformat": 4
 },
 "nbformat": 4,
 "nbformat_minor": 2
}
